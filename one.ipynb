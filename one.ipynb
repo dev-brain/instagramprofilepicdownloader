{
 "cells": [
  {
   "cell_type": "code",
   "execution_count": 44,
   "metadata": {},
   "outputs": [],
   "source": [
    "import requests \n",
    "from bs4 import BeautifulSoup as bs \n",
    "import urllib.request\n",
    "\n"
   ]
  },
  {
   "cell_type": "code",
   "execution_count": 45,
   "metadata": {
    "tags": [
     "outputPrepend"
    ]
   },
   "outputs": [
    {
     "output_type": "stream",
     "name": "stdout",
     "text": "https://www.instagram.com/sahil_kindarle/\n"
    }
   ],
   "source": [
    "url = 'https://www.instagram.com'\n",
    "username = input('Enter the Username: ')\n",
    "response = requests.get(f\"{url}/{username}/\")\n",
    "\n",
    "# Status Code either 200(OK Found URL) or 404(Not a valid URL)\n",
    "response.status_code\n",
    "\n",
    "#Printing the URL (will be printed only if staus_code responses to 200 or OK) \n",
    "\n",
    "finalurl = response.url\n",
    "print(finalurl)\n",
    "abc = requests.get(finalurl)\n",
    "parseddata = bs(abc.text, \"html.parser\") \n",
    "catchimage = parseddata.find(\"meta\",property=\"og:image\")\n",
    "cont = catchimage.attrs['content']\n",
    "\n",
    "with open(username+'.jpg',\"wb\") as pic:\n",
    "    binary=requests.get(cont).content\n",
    "    pic.write(binary)"
   ]
  },
  {
   "cell_type": "code",
   "execution_count": null,
   "metadata": {},
   "outputs": [],
   "source": []
  }
 ],
 "metadata": {
  "language_info": {
   "codemirror_mode": {
    "name": "ipython",
    "version": 3
   },
   "file_extension": ".py",
   "mimetype": "text/x-python",
   "name": "python",
   "nbconvert_exporter": "python",
   "pygments_lexer": "ipython3",
   "version": "3.8.3-final"
  },
  "orig_nbformat": 2,
  "kernelspec": {
   "name": "python38364bit5028799775414cb98878377730eb49b2",
   "display_name": "Python 3.8.3 64-bit"
  }
 },
 "nbformat": 4,
 "nbformat_minor": 2
}